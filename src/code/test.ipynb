{
 "cells": [
  {
   "cell_type": "markdown",
   "metadata": {},
   "source": [
    "## 夏季・年間一時金のデータ整理"
   ]
  },
  {
   "cell_type": "code",
   "execution_count": 14,
   "metadata": {},
   "outputs": [],
   "source": [
    "import tabula\n",
    "import pandas as pd\n",
    "import json\n",
    "\n",
    "f = json.load(open('pdf_list.json', 'r'))\n",
    "\n"
   ]
  },
  {
   "cell_type": "code",
   "execution_count": 41,
   "metadata": {},
   "outputs": [
    {
     "name": "stderr",
     "output_type": "stream",
     "text": [
      "Nov 14, 2023 2:44:44 AM org.apache.pdfbox.pdmodel.font.PDTrueTypeFont <init>\n",
      "WARNING: Using fallback font 'LiberationSans' for 'ArialMT'\n",
      "Nov 14, 2023 2:44:44 AM org.apache.fontbox.ttf.CmapSubtable processSubtype14\n",
      "WARNING: Format 14 cmap table is not supported and will be ignored\n",
      "Nov 14, 2023 2:44:44 AM org.apache.fontbox.ttf.CmapSubtable processSubtype14\n",
      "WARNING: Format 14 cmap table is not supported and will be ignored\n"
     ]
    }
   ],
   "source": [
    "pdfpath = f['summer']['y2021']\n",
    "\n"
   ]
  },
  {
   "cell_type": "code",
   "execution_count": null,
   "metadata": {},
   "outputs": [],
   "source": [
    "import tabula\n",
    "import pandas as pd\n",
    "\n",
    "colnames = ['属性', '組合数', '組合人員数', '加重平均‗要求', '加重平均‗回答', '加重平均‗前年実績', '単純平均‗要求', '単純平均‗回答', '単純平均‗前年実績']\n",
    "\n",
    "\n",
    "# for文で得られたdfをすべて縦に結合する為の空のdfを作成する\n",
    "master_df = pd.DataFrame()\n",
    "\n",
    "\n",
    "for i in f['summer']:\n",
    "\n",
    "    pdfpath = f['summer'][i]\n",
    "\n",
    "    dfs = tabula.read_pdf(pdfpath, \n",
    "                    pages=\"all\",\n",
    "                    lattice=True\n",
    "                    )\n",
    "\n",
    "    # dfsの中身をすべて縦に結合する\n",
    "    df = pd.concat(dfs, axis=0)\n",
    "\n",
    "\n",
    "    # 業種別がNaNである時、構成組織の値をとる\n",
    "    df['業種別'] = df['業種別'].fillna(df['構成組織'])\n",
    "\n",
    "    # 業種別がNaNである行を削除する\n",
    "    df = df.dropna(subset=['業種別'])\n",
    "    # 構成組織の列を削除する\n",
    "    df = df.drop(columns=['構成組織'])\n",
    "\n",
    "    # index列を削除してから、先頭にyear列を挿入する\n",
    "    df = df.reset_index(drop=True)\n",
    "    # 列名をcolnamesに変更する\n",
    "    df.columns = colnames\n",
    "    df.insert(0, '集計年', i[1:])\n",
    "\n",
    "    # 加重平均‗要求列を、','を削除してからfloat型に変換する\n",
    "    df['加重平均‗要求'] = df['加重平均‗要求'].str.replace(',', '').astype(float)\n",
    "\n",
    "    # '集計年'列の一つ後ろに、加重平均‗要求列の値が100以下であれば'月数'を、そうでなければ'金額'をとる列を挿入する\n",
    "    df.insert(2, '集計カテゴリ', df.apply(lambda x: '月数' if x['加重平均‗要求'] <= 100 else '金額', axis=1))\n",
    "\n",
    "    # '属性'と'集計カテゴリ'の両方からなるグループを作って、それぞれのグループごとにソートする。その後、グループの中でindexの小さい順に数字を1から順番に振る。\n",
    "    df = df.sort_values(['属性', '集計カテゴリ']).reset_index(drop=True)\n",
    "    df.insert(0, 'id', df.groupby(['属性', '集計カテゴリ']).cumcount() + 1)\n",
    "    # 'id'が1の時は'年間',2の時は'夏季'という文字列を'集計カテゴリ'の後ろに追加する\n",
    "    df['集計カテゴリ'] = df.apply(lambda x: x['集計カテゴリ'] + '（年間）' if x['id'] == 1 else x['集計カテゴリ'] + '（夏季）', axis=1)\n",
    "\n",
    "    df = df.drop(columns=['id'])\n",
    "\n",
    "    # dfをdf‗masterに追加していく\n",
    "    master_df = pd.concat([master_df, df], axis=0)\n",
    "\n",
    "\n",
    "master_df.to_csv('../data/summer_bonus.csv', index=False, encoding='utf-8-sig')\n",
    "\n",
    "\n"
   ]
  },
  {
   "cell_type": "markdown",
   "metadata": {},
   "source": [
    "## 冬季一時金の集計についても同様に行う"
   ]
  },
  {
   "cell_type": "code",
   "execution_count": 47,
   "metadata": {},
   "outputs": [
    {
     "name": "stderr",
     "output_type": "stream",
     "text": [
      "Nov 14, 2023 2:57:37 AM org.apache.pdfbox.pdmodel.font.PDTrueTypeFont <init>\n",
      "WARNING: Using fallback font 'LiberationSans' for 'ArialMT'\n",
      "Nov 14, 2023 2:57:38 AM org.apache.pdfbox.pdmodel.font.PDTrueTypeFont <init>\n",
      "WARNING: Using fallback font 'LiberationSans' for 'ArialMT'\n"
     ]
    },
    {
     "ename": "ValueError",
     "evalue": "Length mismatch: Expected axis has 9 elements, new values have 7 elements",
     "output_type": "error",
     "traceback": [
      "\u001b[0;31m---------------------------------------------------------------------------\u001b[0m",
      "\u001b[0;31mValueError\u001b[0m                                Traceback (most recent call last)",
      "\u001b[1;32m/pdf_to_table/src/code/test.ipynb セル 6\u001b[0m line \u001b[0;36m3\n\u001b[1;32m     <a href='vscode-notebook-cell://dev-container%2B7b22686f737450617468223a22683a5c5c7064665f746f5f6466222c226c6f63616c446f636b6572223a66616c73652c22636f6e66696746696c65223a7b22246d6964223a312c2270617468223a222f483a2f7064665f746f5f64662f2e646576636f6e7461696e65722f646576636f6e7461696e65722e6a736f6e222c22736368656d65223a2266696c65227d7d/pdf_to_table/src/code/test.ipynb#W4sdnNjb2RlLXJlbW90ZQ%3D%3D?line=32'>33</a>\u001b[0m df \u001b[39m=\u001b[39m df\u001b[39m.\u001b[39mreset_index(drop\u001b[39m=\u001b[39m\u001b[39mTrue\u001b[39;00m)\n\u001b[1;32m     <a href='vscode-notebook-cell://dev-container%2B7b22686f737450617468223a22683a5c5c7064665f746f5f6466222c226c6f63616c446f636b6572223a66616c73652c22636f6e66696746696c65223a7b22246d6964223a312c2270617468223a222f483a2f7064665f746f5f64662f2e646576636f6e7461696e65722f646576636f6e7461696e65722e6a736f6e222c22736368656d65223a2266696c65227d7d/pdf_to_table/src/code/test.ipynb#W4sdnNjb2RlLXJlbW90ZQ%3D%3D?line=33'>34</a>\u001b[0m \u001b[39m# 列名をcolnamesに変更する\u001b[39;00m\n\u001b[0;32m---> <a href='vscode-notebook-cell://dev-container%2B7b22686f737450617468223a22683a5c5c7064665f746f5f6466222c226c6f63616c446f636b6572223a66616c73652c22636f6e66696746696c65223a7b22246d6964223a312c2270617468223a222f483a2f7064665f746f5f64662f2e646576636f6e7461696e65722f646576636f6e7461696e65722e6a736f6e222c22736368656d65223a2266696c65227d7d/pdf_to_table/src/code/test.ipynb#W4sdnNjb2RlLXJlbW90ZQ%3D%3D?line=34'>35</a>\u001b[0m df\u001b[39m.\u001b[39;49mcolumns \u001b[39m=\u001b[39m colnames\n\u001b[1;32m     <a href='vscode-notebook-cell://dev-container%2B7b22686f737450617468223a22683a5c5c7064665f746f5f6466222c226c6f63616c446f636b6572223a66616c73652c22636f6e66696746696c65223a7b22246d6964223a312c2270617468223a222f483a2f7064665f746f5f64662f2e646576636f6e7461696e65722f646576636f6e7461696e65722e6a736f6e222c22736368656d65223a2266696c65227d7d/pdf_to_table/src/code/test.ipynb#W4sdnNjb2RlLXJlbW90ZQ%3D%3D?line=35'>36</a>\u001b[0m df\u001b[39m.\u001b[39minsert(\u001b[39m0\u001b[39m, \u001b[39m'\u001b[39m\u001b[39m集計年\u001b[39m\u001b[39m'\u001b[39m, i[\u001b[39m1\u001b[39m:])\n\u001b[1;32m     <a href='vscode-notebook-cell://dev-container%2B7b22686f737450617468223a22683a5c5c7064665f746f5f6466222c226c6f63616c446f636b6572223a66616c73652c22636f6e66696746696c65223a7b22246d6964223a312c2270617468223a222f483a2f7064665f746f5f64662f2e646576636f6e7461696e65722f646576636f6e7461696e65722e6a736f6e222c22736368656d65223a2266696c65227d7d/pdf_to_table/src/code/test.ipynb#W4sdnNjb2RlLXJlbW90ZQ%3D%3D?line=37'>38</a>\u001b[0m \u001b[39m# 加重平均‗回答列を、','を削除してからfloat型に変換する\u001b[39;00m\n",
      "File \u001b[0;32m/usr/local/lib/python3.10/site-packages/pandas/core/generic.py:6218\u001b[0m, in \u001b[0;36mNDFrame.__setattr__\u001b[0;34m(self, name, value)\u001b[0m\n\u001b[1;32m   6216\u001b[0m \u001b[39mtry\u001b[39;00m:\n\u001b[1;32m   6217\u001b[0m     \u001b[39mobject\u001b[39m\u001b[39m.\u001b[39m\u001b[39m__getattribute__\u001b[39m(\u001b[39mself\u001b[39m, name)\n\u001b[0;32m-> 6218\u001b[0m     \u001b[39mreturn\u001b[39;00m \u001b[39mobject\u001b[39;49m\u001b[39m.\u001b[39;49m\u001b[39m__setattr__\u001b[39;49m(\u001b[39mself\u001b[39;49m, name, value)\n\u001b[1;32m   6219\u001b[0m \u001b[39mexcept\u001b[39;00m \u001b[39mAttributeError\u001b[39;00m:\n\u001b[1;32m   6220\u001b[0m     \u001b[39mpass\u001b[39;00m\n",
      "File \u001b[0;32mproperties.pyx:69\u001b[0m, in \u001b[0;36mpandas._libs.properties.AxisProperty.__set__\u001b[0;34m()\u001b[0m\n",
      "File \u001b[0;32m/usr/local/lib/python3.10/site-packages/pandas/core/generic.py:767\u001b[0m, in \u001b[0;36mNDFrame._set_axis\u001b[0;34m(self, axis, labels)\u001b[0m\n\u001b[1;32m    762\u001b[0m \u001b[39m\u001b[39m\u001b[39m\"\"\"\u001b[39;00m\n\u001b[1;32m    763\u001b[0m \u001b[39mThis is called from the cython code when we set the `index` attribute\u001b[39;00m\n\u001b[1;32m    764\u001b[0m \u001b[39mdirectly, e.g. `series.index = [1, 2, 3]`.\u001b[39;00m\n\u001b[1;32m    765\u001b[0m \u001b[39m\"\"\"\u001b[39;00m\n\u001b[1;32m    766\u001b[0m labels \u001b[39m=\u001b[39m ensure_index(labels)\n\u001b[0;32m--> 767\u001b[0m \u001b[39mself\u001b[39;49m\u001b[39m.\u001b[39;49m_mgr\u001b[39m.\u001b[39;49mset_axis(axis, labels)\n\u001b[1;32m    768\u001b[0m \u001b[39mself\u001b[39m\u001b[39m.\u001b[39m_clear_item_cache()\n",
      "File \u001b[0;32m/usr/local/lib/python3.10/site-packages/pandas/core/internals/managers.py:227\u001b[0m, in \u001b[0;36mBaseBlockManager.set_axis\u001b[0;34m(self, axis, new_labels)\u001b[0m\n\u001b[1;32m    225\u001b[0m \u001b[39mdef\u001b[39;00m \u001b[39mset_axis\u001b[39m(\u001b[39mself\u001b[39m, axis: AxisInt, new_labels: Index) \u001b[39m-\u001b[39m\u001b[39m>\u001b[39m \u001b[39mNone\u001b[39;00m:\n\u001b[1;32m    226\u001b[0m     \u001b[39m# Caller is responsible for ensuring we have an Index object.\u001b[39;00m\n\u001b[0;32m--> 227\u001b[0m     \u001b[39mself\u001b[39;49m\u001b[39m.\u001b[39;49m_validate_set_axis(axis, new_labels)\n\u001b[1;32m    228\u001b[0m     \u001b[39mself\u001b[39m\u001b[39m.\u001b[39maxes[axis] \u001b[39m=\u001b[39m new_labels\n",
      "File \u001b[0;32m/usr/local/lib/python3.10/site-packages/pandas/core/internals/base.py:85\u001b[0m, in \u001b[0;36mDataManager._validate_set_axis\u001b[0;34m(self, axis, new_labels)\u001b[0m\n\u001b[1;32m     82\u001b[0m     \u001b[39mpass\u001b[39;00m\n\u001b[1;32m     84\u001b[0m \u001b[39melif\u001b[39;00m new_len \u001b[39m!=\u001b[39m old_len:\n\u001b[0;32m---> 85\u001b[0m     \u001b[39mraise\u001b[39;00m \u001b[39mValueError\u001b[39;00m(\n\u001b[1;32m     86\u001b[0m         \u001b[39mf\u001b[39m\u001b[39m\"\u001b[39m\u001b[39mLength mismatch: Expected axis has \u001b[39m\u001b[39m{\u001b[39;00mold_len\u001b[39m}\u001b[39;00m\u001b[39m elements, new \u001b[39m\u001b[39m\"\u001b[39m\n\u001b[1;32m     87\u001b[0m         \u001b[39mf\u001b[39m\u001b[39m\"\u001b[39m\u001b[39mvalues have \u001b[39m\u001b[39m{\u001b[39;00mnew_len\u001b[39m}\u001b[39;00m\u001b[39m elements\u001b[39m\u001b[39m\"\u001b[39m\n\u001b[1;32m     88\u001b[0m     )\n",
      "\u001b[0;31mValueError\u001b[0m: Length mismatch: Expected axis has 9 elements, new values have 7 elements"
     ]
    }
   ],
   "source": [
    "import tabula\n",
    "import pandas as pd\n",
    "\n",
    "colnames = ['属性', '組合数', '組合人員数', '加重平均‗回答', '加重平均‗前年実績','単純平均‗回答', '単純平均‗前年実績']\n",
    "\n",
    "\n",
    "# for文で得られたdfをすべて縦に結合する為の空のdfを作成する\n",
    "master_df = pd.DataFrame()\n",
    "\n",
    "\n",
    "for i in f['winter']:\n",
    "\n",
    "    pdfpath = f['winter'][i]\n",
    "\n",
    "    dfs = tabula.read_pdf(pdfpath, \n",
    "                    pages=\"all\",\n",
    "                    lattice=True\n",
    "                    )\n",
    "\n",
    "    # dfsの中身をすべて縦に結合する\n",
    "    df = pd.concat(dfs, axis=0)\n",
    "\n",
    "\n",
    "    # 業種別がNaNである時、構成組織の値をとる\n",
    "    df['業種別'] = df['業種別'].fillna(df['構成組織'])\n",
    "\n",
    "    # 業種別がNaNである行を削除する\n",
    "    df = df.dropna(subset=['業種別'])\n",
    "    # 構成組織の列を削除する\n",
    "    df = df.drop(columns=['構成組織'])\n",
    "\n",
    "    # index列を削除してから、先頭にyear列を挿入する\n",
    "    df = df.reset_index(drop=True)\n",
    "    # 列名をcolnamesに変更する\n",
    "    df.columns = colnames\n",
    "    df.insert(0, '集計年', i[1:])\n",
    "\n",
    "    # 加重平均‗回答列を、','を削除してからfloat型に変換する\n",
    "    df['加重平均‗回答'] = df['加重平均‗回答'].str.replace(',', '').astype(float)\n",
    "\n",
    "    # '集計年'列の一つ後ろに、加重平均‗要求列の値が100以下であれば'月数'を、そうでなければ'金額'をとる列を挿入する\n",
    "    df.insert(2, '集計カテゴリ', df.apply(lambda x: '月数（冬季）' if x['加重平均‗回答'] <= 100 else '金額（冬季）', axis=1))\n",
    "\n",
    "    # dfをdf‗masterに追加していく\n",
    "    master_df = pd.concat([master_df, df], axis=0)\n",
    "\n",
    "master_df.to_csv('../data/winter_bonus.csv', index=False, encoding='utf-8_sig')\n",
    "\n"
   ]
  },
  {
   "cell_type": "code",
   "execution_count": 2,
   "metadata": {},
   "outputs": [
    {
     "name": "stderr",
     "output_type": "stream",
     "text": [
      "Nov 13, 2023 11:43:42 AM org.apache.pdfbox.pdmodel.font.PDTrueTypeFont <init>\n",
      "WARNING: Using fallback font 'LiberationSans' for 'ArialMT'\n",
      "Nov 13, 2023 11:43:43 AM org.apache.pdfbox.pdmodel.font.PDTrueTypeFont <init>\n",
      "WARNING: Using fallback font 'LiberationSans' for 'ArialMT'\n",
      "Nov 13, 2023 11:43:44 AM org.apache.pdfbox.pdmodel.font.PDTrueTypeFont <init>\n",
      "WARNING: Using fallback font 'LiberationSans' for 'Arial'\n",
      "Nov 13, 2023 11:43:44 AM org.apache.fontbox.ttf.CmapSubtable processSubtype14\n",
      "WARNING: Format 14 cmap table is not supported and will be ignored\n",
      "Nov 13, 2023 11:43:44 AM org.apache.fontbox.ttf.CmapSubtable processSubtype14\n",
      "WARNING: Format 14 cmap table is not supported and will be ignored\n",
      "Nov 13, 2023 11:43:44 AM org.apache.pdfbox.pdmodel.font.PDTrueTypeFont <init>\n",
      "WARNING: Using fallback font 'LiberationSans' for 'ArialMT'\n",
      "Nov 13, 2023 11:43:44 AM org.apache.fontbox.ttf.CmapSubtable processSubtype14\n",
      "WARNING: Format 14 cmap table is not supported and will be ignored\n",
      "Nov 13, 2023 11:43:44 AM org.apache.fontbox.ttf.CmapSubtable processSubtype14\n",
      "WARNING: Format 14 cmap table is not supported and will be ignored\n",
      "Nov 13, 2023 11:43:44 AM org.apache.pdfbox.pdmodel.font.PDTrueTypeFont <init>\n",
      "WARNING: Using fallback font 'LiberationSans' for 'ArialMT'\n",
      "Nov 13, 2023 11:43:44 AM org.apache.fontbox.ttf.CmapSubtable processSubtype14\n",
      "WARNING: Format 14 cmap table is not supported and will be ignored\n",
      "Nov 13, 2023 11:43:44 AM org.apache.fontbox.ttf.CmapSubtable processSubtype14\n",
      "WARNING: Format 14 cmap table is not supported and will be ignored\n",
      "Nov 13, 2023 11:43:45 AM org.apache.pdfbox.pdmodel.font.PDTrueTypeFont <init>\n",
      "WARNING: Using fallback font 'LiberationSans' for 'Arial,Bold'\n",
      "Nov 13, 2023 11:43:45 AM org.apache.fontbox.ttf.CmapSubtable processSubtype14\n",
      "WARNING: Format 14 cmap table is not supported and will be ignored\n",
      "Nov 13, 2023 11:43:45 AM org.apache.fontbox.ttf.CmapSubtable processSubtype14\n",
      "WARNING: Format 14 cmap table is not supported and will be ignored\n",
      "Nov 13, 2023 11:43:45 AM org.apache.fontbox.ttf.CmapSubtable processSubtype14\n",
      "WARNING: Format 14 cmap table is not supported and will be ignored\n",
      "Nov 13, 2023 11:43:45 AM org.apache.pdfbox.pdmodel.font.PDTrueTypeFont <init>\n",
      "WARNING: Using fallback font 'LiberationSans' for 'Arial'\n",
      "Nov 13, 2023 11:43:45 AM org.apache.pdfbox.pdmodel.font.PDTrueTypeFont <init>\n",
      "WARNING: Using fallback font 'LiberationSans' for 'Arial'\n",
      "Nov 13, 2023 11:43:45 AM org.apache.fontbox.ttf.CmapSubtable processSubtype14\n",
      "WARNING: Format 14 cmap table is not supported and will be ignored\n",
      "Nov 13, 2023 11:43:45 AM org.apache.fontbox.ttf.CmapSubtable processSubtype14\n",
      "WARNING: Format 14 cmap table is not supported and will be ignored\n"
     ]
    }
   ],
   "source": [
    "\n",
    "\n",
    "for i in f['winter']:\n",
    "\n",
    "    pdfpath = f['winter'][i]\n",
    "\n",
    "    dfs = tabula.read_pdf(pdfpath, \n",
    "                      pages=\"all\",\n",
    "                      lattice=True\n",
    "                      )\n",
    "    \n",
    "    # dfsの中身をすべて縦に結合する\n",
    "    df = pd.concat(dfs, axis=0)\n",
    "    # 値をi にとる列を追加する。この時、先頭のyをとる\n",
    "    df['year'] = \n",
    "\n",
    "    # 保存する\n",
    "    \n",
    "\n",
    "\n"
   ]
  }
 ],
 "metadata": {
  "kernelspec": {
   "display_name": "Python 3 (ipykernel)",
   "language": "python",
   "name": "python3"
  },
  "language_info": {
   "codemirror_mode": {
    "name": "ipython",
    "version": 3
   },
   "file_extension": ".py",
   "mimetype": "text/x-python",
   "name": "python",
   "nbconvert_exporter": "python",
   "pygments_lexer": "ipython3",
   "version": "3.10.12"
  }
 },
 "nbformat": 4,
 "nbformat_minor": 2
}
