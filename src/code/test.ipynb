{
 "cells": [
  {
   "cell_type": "code",
   "execution_count": 1,
   "metadata": {},
   "outputs": [],
   "source": [
    "d = dict(\n",
    "y2017 = 'https://www.jtuc-rengo.or.jp/activity/roudou/shuntou/2017/yokyu_kaito/kaito_no7_ichiji_20170705.pdf?2718',\n",
    "y2018 = 'https://www.jtuc-rengo.or.jp/activity/roudou/shuntou/2018/yokyu_kaito/kaito/no7/kaito_no7_ichiji.pdf?6213',\n",
    "y2019 = 'https://www.jtuc-rengo.or.jp/activity/roudou/shuntou/2019/yokyu_kaito/kaito/no6/kaito_no6_ichiji.pdf?5180',\n",
    "y2020 = 'https://www.jtuc-rengo.or.jp/activity/roudou/shuntou/2020/yokyu_kaito/kaito/no7/kaito_no7_ichiji.pdf?9029',\n",
    "y2021 = 'https://www.jtuc-rengo.or.jp/activity/roudou/shuntou/2021/yokyu_kaito/kaito/kaito_no7_ichiji.pdf?890',\n",
    "y2022 = 'https://www.jtuc-rengo.or.jp/activity/roudou/shuntou/2022/yokyu_kaito/kaito/kaito_no7_ichiji.pdf?9996',\n",
    "y2023 = 'https://www.jtuc-rengo.or.jp/activity/roudou/shuntou/2023/yokyu_kaito/kaito/kaito_no7_ichiji.pdf?6229'\n",
    "\n",
    "\n",
    ")"
   ]
  },
  {
   "cell_type": "code",
   "execution_count": 3,
   "metadata": {},
   "outputs": [
    {
     "name": "stderr",
     "output_type": "stream",
     "text": [
      "Nov 13, 2023 10:46:40 AM org.apache.pdfbox.pdmodel.font.PDTrueTypeFont <init>\n",
      "WARNING: Using fallback font 'LiberationSans' for 'Arial'\n",
      "Nov 13, 2023 10:46:41 AM org.apache.pdfbox.pdmodel.font.PDTrueTypeFont <init>\n",
      "WARNING: Using fallback font 'LiberationSans' for 'ArialMT'\n",
      "Nov 13, 2023 10:46:42 AM org.apache.pdfbox.pdmodel.font.PDTrueTypeFont <init>\n",
      "WARNING: Using fallback font 'LiberationSans' for 'ArialMT'\n",
      "Nov 13, 2023 10:46:42 AM org.apache.fontbox.ttf.CmapSubtable processSubtype14\n",
      "WARNING: Format 14 cmap table is not supported and will be ignored\n",
      "Nov 13, 2023 10:46:42 AM org.apache.fontbox.ttf.CmapSubtable processSubtype14\n",
      "WARNING: Format 14 cmap table is not supported and will be ignored\n",
      "Nov 13, 2023 10:46:43 AM org.apache.pdfbox.pdmodel.font.PDTrueTypeFont <init>\n",
      "WARNING: Using fallback font 'LiberationSans' for 'ArialMT'\n",
      "Nov 13, 2023 10:46:43 AM org.apache.fontbox.ttf.CmapSubtable processSubtype14\n",
      "WARNING: Format 14 cmap table is not supported and will be ignored\n",
      "Nov 13, 2023 10:46:43 AM org.apache.fontbox.ttf.CmapSubtable processSubtype14\n",
      "WARNING: Format 14 cmap table is not supported and will be ignored\n",
      "Nov 13, 2023 10:46:43 AM org.apache.pdfbox.pdmodel.font.PDTrueTypeFont <init>\n",
      "WARNING: Using fallback font 'LiberationSans' for 'ArialMT'\n",
      "Nov 13, 2023 10:46:43 AM org.apache.fontbox.ttf.CmapSubtable processSubtype14\n",
      "WARNING: Format 14 cmap table is not supported and will be ignored\n",
      "Nov 13, 2023 10:46:43 AM org.apache.fontbox.ttf.CmapSubtable processSubtype14\n",
      "WARNING: Format 14 cmap table is not supported and will be ignored\n",
      "Nov 13, 2023 10:46:45 AM org.apache.pdfbox.pdmodel.font.PDTrueTypeFont <init>\n",
      "WARNING: Using fallback font 'LiberationSans' for 'ArialMT'\n",
      "Nov 13, 2023 10:46:45 AM org.apache.fontbox.ttf.CmapSubtable processSubtype14\n",
      "WARNING: Format 14 cmap table is not supported and will be ignored\n",
      "Nov 13, 2023 10:46:45 AM org.apache.fontbox.ttf.CmapSubtable processSubtype14\n",
      "WARNING: Format 14 cmap table is not supported and will be ignored\n",
      "Nov 13, 2023 10:46:46 AM org.apache.pdfbox.pdmodel.font.PDTrueTypeFont <init>\n",
      "WARNING: Using fallback font 'LiberationSans' for 'Arial'\n",
      "Nov 13, 2023 10:46:46 AM org.apache.fontbox.ttf.CmapSubtable processSubtype14\n",
      "WARNING: Format 14 cmap table is not supported and will be ignored\n",
      "Nov 13, 2023 10:46:46 AM org.apache.fontbox.ttf.CmapSubtable processSubtype14\n",
      "WARNING: Format 14 cmap table is not supported and will be ignored\n"
     ]
    }
   ],
   "source": [
    "import tabula\n",
    "import pandas as pd\n",
    "\n",
    "for i in d:\n",
    "\n",
    "    pdfpath = d[i]\n",
    "\n",
    "    dfs = tabula.read_pdf(pdfpath, \n",
    "                      pages=\"all\",\n",
    "                      lattice=True\n",
    "                      )\n",
    "    \n",
    "    # dfsの中身をすべて縦に結合する\n",
    "    df = pd.concat(dfs, axis=0)\n",
    "    # 値をi にとる列を追加する。この時、先頭のyをとる\n",
    "    df['year'] = i[1:]\n",
    "\n",
    "    # 保存する\n",
    "    df.to_csv(f'../data/{i}.csv', index=False, encoding='cp932')\n",
    "\n",
    "\n"
   ]
  }
 ],
 "metadata": {
  "kernelspec": {
   "display_name": "Python 3 (ipykernel)",
   "language": "python",
   "name": "python3"
  },
  "language_info": {
   "codemirror_mode": {
    "name": "ipython",
    "version": 3
   },
   "file_extension": ".py",
   "mimetype": "text/x-python",
   "name": "python",
   "nbconvert_exporter": "python",
   "pygments_lexer": "ipython3",
   "version": "3.10.12"
  }
 },
 "nbformat": 4,
 "nbformat_minor": 2
}
